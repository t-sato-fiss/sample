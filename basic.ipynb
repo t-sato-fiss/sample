{
 "cells": [
  {
   "cell_type": "code",
   "execution_count": null,
   "id": "3abdf26b",
   "metadata": {},
   "outputs": [
    {
     "name": "stdout",
     "output_type": "stream",
     "text": [
      "3科目の平均点は 83.33333333333333 点です\n"
     ]
    }
   ],
   "source": [
    "# 各科目の点数を変数として定義\n",
    "japanese = 85  # 国語\n",
    "math = 90      # 数学\n",
    "english = 75   # 英語\n",
    "\n",
    "# 平均点を計算\n",
    "average = (japanese + math + english) / 3\n",
    "\n",
    "# 結果を表示\n",
    "print(\"3科目の平均点は\", average, \"点です\")"
   ]
  },
  {
   "cell_type": "code",
   "execution_count": 1,
   "id": "55188136",
   "metadata": {},
   "outputs": [
    {
     "name": "stdout",
     "output_type": "stream",
     "text": [
      "0.30000000000000004\n"
     ]
    }
   ],
   "source": [
    "y = 0.1 + 0.2\n",
    "print(y)"
   ]
  },
  {
   "cell_type": "code",
   "execution_count": 3,
   "id": "d84bd2c1",
   "metadata": {},
   "outputs": [
    {
     "name": "stdout",
     "output_type": "stream",
     "text": [
      "合格です\n",
      "処理を終了します\n"
     ]
    }
   ],
   "source": [
    "score = int(input(\"点数を入力してください: \"))\n",
    "\n",
    "if score >= 60:\n",
    "    print(\"合格です\")\n",
    "\n",
    "print(\"処理を終了します\")"
   ]
  },
  {
   "cell_type": "code",
   "execution_count": 4,
   "id": "9302c6d8",
   "metadata": {},
   "outputs": [
    {
     "name": "stdout",
     "output_type": "stream",
     "text": [
      "0\n",
      "1\n",
      "2\n",
      "3\n",
      "4\n",
      "5\n",
      "6\n",
      "7\n",
      "8\n",
      "9\n",
      "10\n"
     ]
    }
   ],
   "source": [
    "for i in range(11):\n",
    "    print(i)"
   ]
  },
  {
   "cell_type": "code",
   "execution_count": 5,
   "id": "dc672f0a",
   "metadata": {},
   "outputs": [
    {
     "name": "stdout",
     "output_type": "stream",
     "text": [
      "1\n",
      "2\n",
      "3\n",
      "4\n",
      "5\n",
      "6\n",
      "7\n",
      "8\n",
      "9\n",
      "10\n",
      "処理を終了します\n"
     ]
    }
   ],
   "source": [
    "i = 0\n",
    "while i < 10:\n",
    "    i += 1\n",
    "    print(i)\n",
    "\n",
    "print(\"処理を終了します\")"
   ]
  },
  {
   "cell_type": "code",
   "execution_count": 6,
   "id": "bcb80e6f",
   "metadata": {},
   "outputs": [
    {
     "name": "stdout",
     "output_type": "stream",
     "text": [
      "abcdefg\n",
      "vwxyz\n",
      "acegikmoqsuwy\n"
     ]
    }
   ],
   "source": [
    "s = \"abcdefghijklmnopqrstuvwxyz\"\n",
    "print(s[0:7])    # abcdefg\n",
    "print(s[-5:])    # vwxyz\n",
    "print(s[::2])    # acegikmoqsuwy（2個おき）"
   ]
  },
  {
   "cell_type": "code",
   "execution_count": 7,
   "id": "76870ade",
   "metadata": {},
   "outputs": [
    {
     "name": "stdout",
     "output_type": "stream",
     "text": [
      "T\n",
      "E\n",
      "C\n",
      "H\n",
      "A\n",
      "C\n",
      "A\n",
      "D\n",
      "E\n",
      "M\n",
      "Y\n"
     ]
    }
   ],
   "source": [
    "s = \"TechAcademy\"\n",
    "for char in s:\n",
    "    print(char.upper())  # 各文字を大文字に変換して表示"
   ]
  },
  {
   "cell_type": "code",
   "execution_count": 8,
   "id": "89414cc5",
   "metadata": {},
   "outputs": [
    {
     "name": "stdout",
     "output_type": "stream",
     "text": [
      "[1, 2, 3] [1, 2, 3] [1, 2, 3]\n"
     ]
    }
   ],
   "source": [
    "original = [1, 2, 3]\n",
    "copy1 = original[:]\n",
    "copy2 = list(original)\n",
    "copy3 = original.copy()\n",
    "\n",
    "print(copy1, copy2, copy3)"
   ]
  },
  {
   "cell_type": "code",
   "execution_count": 9,
   "id": "1db188db",
   "metadata": {},
   "outputs": [
    {
     "name": "stdout",
     "output_type": "stream",
     "text": [
      "[1, 2] [0, 1, 2] [2, 3, 4, 5] [5, 4, 3, 2, 1, 0]\n"
     ]
    }
   ],
   "source": [
    "numbers = [0, 1, 2, 3, 4, 5]\n",
    "print(numbers[1:3], numbers[:3], numbers[2:], numbers[::-1])"
   ]
  },
  {
   "cell_type": "code",
   "execution_count": 1,
   "id": "229d9aa8",
   "metadata": {},
   "outputs": [
    {
     "name": "stdout",
     "output_type": "stream",
     "text": [
      "apple cherry\n",
      "['apple', 'orange', 'cherry']\n",
      "['apple', 'grape', 'orange', 'cherry', 'mango', 'kiwi', 'pear']\n"
     ]
    }
   ],
   "source": [
    "fruits = [\"apple\", \"banana\", \"cherry\"]\n",
    "print(fruits[0], fruits[-1])  # apple, cherry\n",
    "fruits[1] = \"orange\"          # 要素の変更\n",
    "print(fruits)                 # ['apple', 'orange', 'cherry']\n",
    "fruits.append(\"mango\")\n",
    "fruits.insert(1, \"grape\")\n",
    "fruits.extend([\"kiwi\", \"pear\"])\n",
    "print(fruits)"
   ]
  },
  {
   "cell_type": "code",
   "execution_count": 2,
   "id": "52669aaa",
   "metadata": {},
   "outputs": [
    {
     "name": "stdout",
     "output_type": "stream",
     "text": [
      "[1, 1, 2, 3, 4, 5, 9] [9, 5, 4, 3, 2, 1, 1]\n"
     ]
    }
   ],
   "source": [
    "numbers = [3, 1, 4, 1, 5, 9, 2]\n",
    "numbers.sort()\n",
    "sorted_numbers = sorted(numbers, reverse=True)\n",
    "\n",
    "print(numbers, sorted_numbers)\n"
   ]
  },
  {
   "cell_type": "code",
   "execution_count": 3,
   "id": "1ccf5029",
   "metadata": {},
   "outputs": [
    {
     "name": "stdout",
     "output_type": "stream",
     "text": [
      "dict_keys(['apple', 'banana', 'cherry']) dict_values([100, 200, 300]) dict_items([('apple', 100), ('banana', 200), ('cherry', 300)])\n"
     ]
    }
   ],
   "source": [
    "fruit_prices = {\"apple\": 100, \"banana\": 200, \"cherry\": 300}\n",
    "print(fruit_prices.keys(), fruit_prices.values(), fruit_prices.items())"
   ]
  },
  {
   "cell_type": "code",
   "execution_count": 4,
   "id": "d8609543",
   "metadata": {},
   "outputs": [
    {
     "name": "stdout",
     "output_type": "stream",
     "text": [
      "現在の日時: 2025-04-08 13:42:52.848758\n"
     ]
    }
   ],
   "source": [
    "import datetime as dt\n",
    "now = dt.datetime.now()\n",
    "print(\"現在の日時:\", now)"
   ]
  },
  {
   "cell_type": "code",
   "execution_count": 8,
   "id": "3715cba0",
   "metadata": {},
   "outputs": [
    {
     "name": "stdout",
     "output_type": "stream",
     "text": [
      "1999-08-19 00:00:00\n"
     ]
    }
   ],
   "source": [
    "import datetime\n",
    "birthday  = datetime.datetime(1999, 8, 19)\n",
    "print(birthday)"
   ]
  },
  {
   "cell_type": "code",
   "execution_count": 15,
   "id": "70f139b1",
   "metadata": {},
   "outputs": [
    {
     "name": "stdout",
     "output_type": "stream",
     "text": [
      "送料は350円です\n",
      "送料込税込価格は2000円です\n"
     ]
    }
   ],
   "source": [
    "#「税抜価格」をユーザーから取得し、数値に変換する\n",
    "tax_excluded_price = float(input(\"税抜価格を入力してください: \"))\n",
    "\n",
    "#「税込価格」を計算する（消費税率は10％）\n",
    "tax_rate = 0.10\n",
    "tax_included_price = tax_excluded_price * (1 + tax_rate)\n",
    "\n",
    "#送料の計算（2000円以上かどうかを判定して分析）\n",
    "if tax_included_price >= 2000:\n",
    "    shipping_cost = 0\n",
    "    print(\"送料は無料です\")\n",
    "else :\n",
    "    shipping_cost = 350\n",
    "    print(f\"送料は{shipping_cost}円です\")\n",
    "\n",
    "#送料込価格を計算して、変数に代入する\n",
    "total_price = tax_included_price + shipping_cost\n",
    "\n",
    "#「送料込税込価格」を少数を含めずに出力する\n",
    "print(f\"送料込税込価格は{total_price:.0f}円です\")\n"
   ]
  }
 ],
 "metadata": {
  "kernelspec": {
   "display_name": ".venv",
   "language": "python",
   "name": "python3"
  },
  "language_info": {
   "codemirror_mode": {
    "name": "ipython",
    "version": 3
   },
   "file_extension": ".py",
   "mimetype": "text/x-python",
   "name": "python",
   "nbconvert_exporter": "python",
   "pygments_lexer": "ipython3",
   "version": "3.12.7"
  }
 },
 "nbformat": 4,
 "nbformat_minor": 5
}
